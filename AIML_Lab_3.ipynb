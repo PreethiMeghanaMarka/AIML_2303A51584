{
  "nbformat": 4,
  "nbformat_minor": 0,
  "metadata": {
    "colab": {
      "provenance": [],
      "authorship_tag": "ABX9TyMWegC6vZzp6ZxSSc55eGID",
      "include_colab_link": true
    },
    "kernelspec": {
      "name": "python3",
      "display_name": "Python 3"
    },
    "language_info": {
      "name": "python"
    }
  },
  "cells": [
    {
      "cell_type": "markdown",
      "metadata": {
        "id": "view-in-github",
        "colab_type": "text"
      },
      "source": [
        "<a href=\"https://colab.research.google.com/github/PreethiMeghanaMarka/AIML_2303A51584/blob/main/AIML_Lab_3.ipynb\" target=\"_parent\"><img src=\"https://colab.research.google.com/assets/colab-badge.svg\" alt=\"Open In Colab\"/></a>"
      ]
    },
    {
      "cell_type": "markdown",
      "source": [
        "**Part-1**"
      ],
      "metadata": {
        "id": "hgiuWcfVGIK_"
      }
    },
    {
      "cell_type": "markdown",
      "source": [
        "Install the Python Libraries required for Game Strategy."
      ],
      "metadata": {
        "id": "wI1HfzEtGDKL"
      }
    },
    {
      "cell_type": "code",
      "execution_count": 4,
      "metadata": {
        "id": "lcisRSjgH8CQ"
      },
      "outputs": [],
      "source": [
        "from collections import namedtuple, Counter, defaultdict\n",
        "import random\n",
        "import functools\n",
        "cache=functools.lru_cache(10**6)"
      ]
    },
    {
      "cell_type": "code",
      "source": [
        "class Game:\n",
        " def actions(self , state ):\n",
        "\n",
        "   raise NotImplementedError\n",
        " def result (self , state , move ):\n",
        "\n",
        "   raise NotImplementedError\n",
        " def is_terminal (self , state ):\n",
        "\n",
        "   return not self. actions (state)\n",
        " def utility (self , state , player ):\n",
        "\n",
        "   raise NotImplementedError\n",
        "\n",
        "\n"
      ],
      "metadata": {
        "id": "nMr2Fh1uMMdQ"
      },
      "execution_count": 5,
      "outputs": []
    },
    {
      "cell_type": "code",
      "source": [
        "def play_game (game , strategies : dict , verbose =False ):\n",
        "\n",
        "\n",
        "  state = game. initial\n",
        "  while not game.is_terminal (state ):\n",
        "   player = state.to_move\n",
        "   move = strategies [ player ](game , state)\n",
        "   state = game. result (state , move)\n",
        "   if verbose :\n",
        "    print('Player ', player , 'move:', move)\n",
        "    print(state)\n",
        "  return state"
      ],
      "metadata": {
        "id": "Kj1DjVHTNH4l"
      },
      "execution_count": 6,
      "outputs": []
    },
    {
      "cell_type": "markdown",
      "source": [
        "Part-2"
      ],
      "metadata": {
        "id": "aWvvDuCaAPQn"
      }
    },
    {
      "cell_type": "code",
      "source": [
        "def minimax_search(game , state ):\n",
        "  \"\"\"Search game tree to determine best move; return (value, move) pair.\"\"\"\n",
        "  player = state. to_move\n",
        "  def max_value (state ):\n",
        "    if game.is_terminal (state ):\n",
        "      return game. utility (state , player ), None\n",
        "    v, move = -infinity , None\n",
        "    for a in game. actions (state ):\n",
        "       v2 , = min_value (game. result (state , a))\n",
        "       if v2 > v:\n",
        "        v, move = v2 , a\n",
        "        return v, move\n",
        "  def min_value (state ):\n",
        "   if game.is_terminal (state ):\n",
        "     return game.utility (state , player ), None\n",
        "   v, move = +infinity , None\n",
        "   for a in game. actions (state ):\n",
        "    v2 , = max_value (game. result (state , a))\n",
        "   if v2 < v:\n",
        "    v, move = v2 , a\n",
        "    return v, move\n",
        "  return max_value (state)\n",
        "  infinity = math.inf\n",
        "\n"
      ],
      "metadata": {
        "id": "P7Ec29ka-moh"
      },
      "execution_count": 7,
      "outputs": []
    },
    {
      "cell_type": "markdown",
      "source": [
        "2. Implement the Alpha-Beta Search Algorithm"
      ],
      "metadata": {
        "id": "TqHSTG6l6bIs"
      }
    },
    {
      "cell_type": "code",
      "source": [
        "def alphabeta_search (game , state ):\n",
        "  \"\"\"Search game to determine best action; use alpha−beta pruning.\n",
        "  \"\"Search all the way to the leaves .\"\"\"\n",
        "  player = state. to_move\n",
        "  def max_value (state , alpha , beta ):\n",
        "   if game. is_terminal (state ):\n",
        "    return game. utility (state , player ), None\n",
        "    v, move = -infinity , None\n",
        "  for a in game. actions (state ):\n",
        "   v2 , = min_value (game. result (state , a), alpha , beta)\n",
        "  if v2 > v:\n",
        "   v, move = v2 , a\n",
        "   alpha = max(alpha , v)\n",
        "  if v >= beta:\n",
        "   return v, move\n",
        "  return v, move\n",
        "  def min_value (state , alpha , beta ):\n",
        "   if game. is_terminal (state ):\n",
        "    return game. utility (state , player ), None\n",
        "    v, move = +infinity , None\n",
        "  for a in game. actions (state ):\n",
        "   v2 , = max_value (game. result (state , a), alpha , beta)\n",
        "  if v2 < v:\n",
        "   v, move = v2 , a\n",
        "   beta = min(beta , v)\n",
        "  if v <= alpha:\n",
        "   return v, move\n",
        "  return v, move\n",
        "  return max_value (state , -infinity , + infinity)"
      ],
      "metadata": {
        "id": "SfpoX58d5yBq"
      },
      "execution_count": 8,
      "outputs": []
    },
    {
      "cell_type": "markdown",
      "source": [
        "**Part-3**"
      ],
      "metadata": {
        "id": "MmWlq_ii8ONv"
      }
    },
    {
      "cell_type": "markdown",
      "source": [
        "Implement the Game Strategy using TicTocToe."
      ],
      "metadata": {
        "id": "JgdvHji58ZTT"
      }
    },
    {
      "cell_type": "markdown",
      "source": [
        "1. Implement TicToCToe game using init , actions, result, is terminal, utility,\n",
        "display constructors"
      ],
      "metadata": {
        "id": "0Xjb5cA38oIX"
      }
    },
    {
      "cell_type": "code",
      "source": [
        "class TicTacToe (Game):\n",
        "  \"\"\"Play TicTacToe on an ‘height ‘ by ‘width‘ board, needing ‘k‘ in a row to win.\n",
        "  ’X’ plays first against ’O’.\"\"\"\n",
        "\n",
        "  def __init__ (self , height =3, width =3, k=3):\n",
        "   self.k = k # k in a row\n",
        "   self. squares = {(x, y) for x in range (width) for y in range( height)}\n",
        "   self. initial = Board( height =height , width=width , to_move ='X', utility ='O')\n",
        "  def actions (self , board ):\n",
        "   \"\"\"Legal moves are any square not yet taken.\"\"\"\n",
        "   return self.squares - set(board)\n",
        "  def result (self , board , square ):\n",
        "   \"\"\"Place a marker for current player on square.\"\"\"\n",
        "   player = board. to_move\n",
        "   board = board.new({square : player}, to_move =('O' if player == 'X' else 'X'))\n",
        "   win = k_in_row (board , player , square , self.k)\n",
        "   board. utility = ('O' if not win else +1 if player == 'X' else -1)\n",
        "   return board\n",
        "  def utility (self , board , player ):\n",
        "   \"\"\"Return the value to player; 1 for win, −1 for loss , 0 otherwise.\"\"\"\n",
        "   return board. utility if player == 'X' else -board. utility\n",
        "  def is_terminal (self , board ):\n",
        "   \"\"\"A board is a terminal state if it is won or there are no empty squares.\"\"\"\n",
        "   return board. utility != 0 or len(self. squares ) == len(board)\n",
        "  def display (self , board ): print(board)\n",
        "  def k_in_row (board , player , square , k):\n",
        "   \"\"\"True if player has k pieces in a line through square.\"\"\"\n",
        "  def in_row (x, y, dx , dy):\n",
        "   return 0 if board[x, y] != player else 1 + in_row (x + dx , y + dy , dx , dy)\n",
        "   return any( in_row(*square , dx , dy) + in_row(*square , -dx , -dy)-1>=k\n",
        "   for (dx , dy) in ((0, 1), (1, 0), (1, 1), (1, -1)))"
      ],
      "metadata": {
        "id": "gk-pDv9v8EtS"
      },
      "execution_count": 9,
      "outputs": []
    },
    {
      "cell_type": "markdown",
      "source": [
        "2. Implement a Game Board using defaultdict using init , new, missing , hash ,\n",
        "_repr_"
      ],
      "metadata": {
        "id": "HrqEHi9w_fMw"
      }
    },
    {
      "cell_type": "code",
      "source": [
        "class Board( defaultdict ):\n",
        "  \"\"\"A board has the player to move, a cached utility value,\n",
        "  and a dict of {(x, y): player} entries , where player is ’X’ or ’O’.\"\"\"\n",
        "  empty = '.'\n",
        "  off = '#'\n",
        "\n",
        "def __init__(self , width =8, height =8, to_move =None , **kwds ):\n",
        "   self.__dict__.update (width=width , height =height , to_move = to_move , **kwds)\n",
        "def new(self , changes : dict , **kwds) -> 'Board ':\n",
        "   \"Given a dict of {(x, y): contents} changes , return a new Board with the changes .\"\n",
        "   board = Board(width=self.width , height =self.height , **kwds)\n",
        "   board. update (self)\n",
        "   board. update ( changes )\n",
        "   return board\n",
        "def __missing__ (self , loc ):\n",
        "   x, y = loc\n",
        "   if 0 <= x < self.width and 0 <= y < self. height :\n",
        "    return self.empty\n",
        "   else:\n",
        "    return self.off\n",
        "def __hash__ (self ):\n",
        "   return hash( tuple( sorted (self.items ()))) + hash(self. to_move )\n",
        "def __repr__ (self ):\n",
        " def row(y): return ' '.join(self[x, y] for x in range (self.width ))\n",
        " return '\\n'.join(map(row , range(self. height ))) + '\\n'"
      ],
      "metadata": {
        "id": "ddH3wmnG_Wwl"
      },
      "execution_count": 10,
      "outputs": []
    },
    {
      "cell_type": "markdown",
      "source": [
        "3. Implement random player(game,state) and player(search algorithm)"
      ],
      "metadata": {
        "id": "dFQJKuwECwk_"
      }
    },
    {
      "cell_type": "code",
      "source": [
        "def random_player (game , state ): return random . choice (list(game. actions ( state )))\n",
        "def player ( search_algorithm ):\n",
        " \"\"\"A game player who uses the specified search algorithm\"\"\"\n",
        " return lambda game , state: search_algorithm (game , state )[1]"
      ],
      "metadata": {
        "id": "KNUiKPrPCx1G"
      },
      "execution_count": 11,
      "outputs": []
    },
    {
      "cell_type": "code",
      "source": [
        "play_game(TicTacToe(), dict(X=random_player, O=player((alphabeta_search))), verbose=True).utility\n",
        "\n"
      ],
      "metadata": {
        "colab": {
          "base_uri": "https://localhost:8080/",
          "height": 304
        },
        "id": "wTGNN_joLCSC",
        "outputId": "bd09407c-cd77-4b29-df09-2820e1e528e7"
      },
      "execution_count": 12,
      "outputs": [
        {
          "output_type": "error",
          "ename": "AttributeError",
          "evalue": "'Board' object has no attribute 'utility'",
          "traceback": [
            "\u001b[0;31m---------------------------------------------------------------------------\u001b[0m",
            "\u001b[0;31mAttributeError\u001b[0m                            Traceback (most recent call last)",
            "\u001b[0;32m<ipython-input-12-a8ca6e5c9206>\u001b[0m in \u001b[0;36m<cell line: 1>\u001b[0;34m()\u001b[0m\n\u001b[0;32m----> 1\u001b[0;31m \u001b[0mplay_game\u001b[0m\u001b[0;34m(\u001b[0m\u001b[0mTicTacToe\u001b[0m\u001b[0;34m(\u001b[0m\u001b[0;34m)\u001b[0m\u001b[0;34m,\u001b[0m \u001b[0mdict\u001b[0m\u001b[0;34m(\u001b[0m\u001b[0mX\u001b[0m\u001b[0;34m=\u001b[0m\u001b[0mrandom_player\u001b[0m\u001b[0;34m,\u001b[0m \u001b[0mO\u001b[0m\u001b[0;34m=\u001b[0m\u001b[0mplayer\u001b[0m\u001b[0;34m(\u001b[0m\u001b[0;34m(\u001b[0m\u001b[0malphabeta_search\u001b[0m\u001b[0;34m)\u001b[0m\u001b[0;34m)\u001b[0m\u001b[0;34m)\u001b[0m\u001b[0;34m,\u001b[0m \u001b[0mverbose\u001b[0m\u001b[0;34m=\u001b[0m\u001b[0;32mTrue\u001b[0m\u001b[0;34m)\u001b[0m\u001b[0;34m.\u001b[0m\u001b[0mutility\u001b[0m\u001b[0;34m\u001b[0m\u001b[0;34m\u001b[0m\u001b[0m\n\u001b[0m\u001b[1;32m      2\u001b[0m \u001b[0;34m\u001b[0m\u001b[0m\n",
            "\u001b[0;32m<ipython-input-6-82f61ef3f17e>\u001b[0m in \u001b[0;36mplay_game\u001b[0;34m(game, strategies, verbose)\u001b[0m\n\u001b[1;32m      3\u001b[0m \u001b[0;34m\u001b[0m\u001b[0m\n\u001b[1;32m      4\u001b[0m   \u001b[0mstate\u001b[0m \u001b[0;34m=\u001b[0m \u001b[0mgame\u001b[0m\u001b[0;34m.\u001b[0m \u001b[0minitial\u001b[0m\u001b[0;34m\u001b[0m\u001b[0;34m\u001b[0m\u001b[0m\n\u001b[0;32m----> 5\u001b[0;31m   \u001b[0;32mwhile\u001b[0m \u001b[0;32mnot\u001b[0m \u001b[0mgame\u001b[0m\u001b[0;34m.\u001b[0m\u001b[0mis_terminal\u001b[0m \u001b[0;34m(\u001b[0m\u001b[0mstate\u001b[0m \u001b[0;34m)\u001b[0m\u001b[0;34m:\u001b[0m\u001b[0;34m\u001b[0m\u001b[0;34m\u001b[0m\u001b[0m\n\u001b[0m\u001b[1;32m      6\u001b[0m    \u001b[0mplayer\u001b[0m \u001b[0;34m=\u001b[0m \u001b[0mstate\u001b[0m\u001b[0;34m.\u001b[0m\u001b[0mto_move\u001b[0m\u001b[0;34m\u001b[0m\u001b[0;34m\u001b[0m\u001b[0m\n\u001b[1;32m      7\u001b[0m    \u001b[0mmove\u001b[0m \u001b[0;34m=\u001b[0m \u001b[0mstrategies\u001b[0m \u001b[0;34m[\u001b[0m \u001b[0mplayer\u001b[0m \u001b[0;34m]\u001b[0m\u001b[0;34m(\u001b[0m\u001b[0mgame\u001b[0m \u001b[0;34m,\u001b[0m \u001b[0mstate\u001b[0m\u001b[0;34m)\u001b[0m\u001b[0;34m\u001b[0m\u001b[0;34m\u001b[0m\u001b[0m\n",
            "\u001b[0;32m<ipython-input-9-caa2aaad9d5e>\u001b[0m in \u001b[0;36mis_terminal\u001b[0;34m(self, board)\u001b[0m\n\u001b[1;32m     22\u001b[0m   \u001b[0;32mdef\u001b[0m \u001b[0mis_terminal\u001b[0m \u001b[0;34m(\u001b[0m\u001b[0mself\u001b[0m \u001b[0;34m,\u001b[0m \u001b[0mboard\u001b[0m \u001b[0;34m)\u001b[0m\u001b[0;34m:\u001b[0m\u001b[0;34m\u001b[0m\u001b[0;34m\u001b[0m\u001b[0m\n\u001b[1;32m     23\u001b[0m    \u001b[0;34m\"\"\"A board is a terminal state if it is won or there are no empty squares.\"\"\"\u001b[0m\u001b[0;34m\u001b[0m\u001b[0;34m\u001b[0m\u001b[0m\n\u001b[0;32m---> 24\u001b[0;31m    \u001b[0;32mreturn\u001b[0m \u001b[0mboard\u001b[0m\u001b[0;34m.\u001b[0m \u001b[0mutility\u001b[0m \u001b[0;34m!=\u001b[0m \u001b[0;36m0\u001b[0m \u001b[0;32mor\u001b[0m \u001b[0mlen\u001b[0m\u001b[0;34m(\u001b[0m\u001b[0mself\u001b[0m\u001b[0;34m.\u001b[0m \u001b[0msquares\u001b[0m \u001b[0;34m)\u001b[0m \u001b[0;34m==\u001b[0m \u001b[0mlen\u001b[0m\u001b[0;34m(\u001b[0m\u001b[0mboard\u001b[0m\u001b[0;34m)\u001b[0m\u001b[0;34m\u001b[0m\u001b[0;34m\u001b[0m\u001b[0m\n\u001b[0m\u001b[1;32m     25\u001b[0m   \u001b[0;32mdef\u001b[0m \u001b[0mdisplay\u001b[0m \u001b[0;34m(\u001b[0m\u001b[0mself\u001b[0m \u001b[0;34m,\u001b[0m \u001b[0mboard\u001b[0m \u001b[0;34m)\u001b[0m\u001b[0;34m:\u001b[0m \u001b[0mprint\u001b[0m\u001b[0;34m(\u001b[0m\u001b[0mboard\u001b[0m\u001b[0;34m)\u001b[0m\u001b[0;34m\u001b[0m\u001b[0;34m\u001b[0m\u001b[0m\n\u001b[1;32m     26\u001b[0m   \u001b[0;32mdef\u001b[0m \u001b[0mk_in_row\u001b[0m \u001b[0;34m(\u001b[0m\u001b[0mboard\u001b[0m \u001b[0;34m,\u001b[0m \u001b[0mplayer\u001b[0m \u001b[0;34m,\u001b[0m \u001b[0msquare\u001b[0m \u001b[0;34m,\u001b[0m \u001b[0mk\u001b[0m\u001b[0;34m)\u001b[0m\u001b[0;34m:\u001b[0m\u001b[0;34m\u001b[0m\u001b[0;34m\u001b[0m\u001b[0m\n",
            "\u001b[0;31mAttributeError\u001b[0m: 'Board' object has no attribute 'utility'"
          ]
        }
      ]
    },
    {
      "cell_type": "code",
      "source": [
        "play_game(TicTacToe(), dict(X=player(alphabeta_search),\n",
        "O=player(minimax_search)), verbose=True).utility\n",
        "\n"
      ],
      "metadata": {
        "colab": {
          "base_uri": "https://localhost:8080/",
          "height": 321
        },
        "id": "5nf1SmVEMm63",
        "outputId": "ad46bbf9-6b89-410b-dca3-cc7cee0c474f"
      },
      "execution_count": null,
      "outputs": [
        {
          "output_type": "error",
          "ename": "AttributeError",
          "evalue": "'Board' object has no attribute 'utility'",
          "traceback": [
            "\u001b[0;31m---------------------------------------------------------------------------\u001b[0m",
            "\u001b[0;31mAttributeError\u001b[0m                            Traceback (most recent call last)",
            "\u001b[0;32m<ipython-input-70-ca6af1fffda5>\u001b[0m in \u001b[0;36m<cell line: 1>\u001b[0;34m()\u001b[0m\n\u001b[0;32m----> 1\u001b[0;31m play_game(TicTacToe(), dict(X=player(alphabeta_search),\n\u001b[0m\u001b[1;32m      2\u001b[0m O=player(minimax_search)), verbose=True).utility\n\u001b[1;32m      3\u001b[0m \u001b[0;34m\u001b[0m\u001b[0m\n",
            "\u001b[0;32m<ipython-input-3-82f61ef3f17e>\u001b[0m in \u001b[0;36mplay_game\u001b[0;34m(game, strategies, verbose)\u001b[0m\n\u001b[1;32m      3\u001b[0m \u001b[0;34m\u001b[0m\u001b[0m\n\u001b[1;32m      4\u001b[0m   \u001b[0mstate\u001b[0m \u001b[0;34m=\u001b[0m \u001b[0mgame\u001b[0m\u001b[0;34m.\u001b[0m \u001b[0minitial\u001b[0m\u001b[0;34m\u001b[0m\u001b[0;34m\u001b[0m\u001b[0m\n\u001b[0;32m----> 5\u001b[0;31m   \u001b[0;32mwhile\u001b[0m \u001b[0;32mnot\u001b[0m \u001b[0mgame\u001b[0m\u001b[0;34m.\u001b[0m\u001b[0mis_terminal\u001b[0m \u001b[0;34m(\u001b[0m\u001b[0mstate\u001b[0m \u001b[0;34m)\u001b[0m\u001b[0;34m:\u001b[0m\u001b[0;34m\u001b[0m\u001b[0;34m\u001b[0m\u001b[0m\n\u001b[0m\u001b[1;32m      6\u001b[0m    \u001b[0mplayer\u001b[0m \u001b[0;34m=\u001b[0m \u001b[0mstate\u001b[0m\u001b[0;34m.\u001b[0m\u001b[0mto_move\u001b[0m\u001b[0;34m\u001b[0m\u001b[0;34m\u001b[0m\u001b[0m\n\u001b[1;32m      7\u001b[0m    \u001b[0mmove\u001b[0m \u001b[0;34m=\u001b[0m \u001b[0mstrategies\u001b[0m \u001b[0;34m[\u001b[0m \u001b[0mplayer\u001b[0m \u001b[0;34m]\u001b[0m\u001b[0;34m(\u001b[0m\u001b[0mgame\u001b[0m \u001b[0;34m,\u001b[0m \u001b[0mstate\u001b[0m\u001b[0;34m)\u001b[0m\u001b[0;34m\u001b[0m\u001b[0;34m\u001b[0m\u001b[0m\n",
            "\u001b[0;32m<ipython-input-66-adafa16f7fd8>\u001b[0m in \u001b[0;36mis_terminal\u001b[0;34m(self, board)\u001b[0m\n\u001b[1;32m     22\u001b[0m   \u001b[0;32mdef\u001b[0m \u001b[0mis_terminal\u001b[0m \u001b[0;34m(\u001b[0m\u001b[0mself\u001b[0m \u001b[0;34m,\u001b[0m \u001b[0mboard\u001b[0m \u001b[0;34m)\u001b[0m\u001b[0;34m:\u001b[0m\u001b[0;34m\u001b[0m\u001b[0;34m\u001b[0m\u001b[0m\n\u001b[1;32m     23\u001b[0m    \u001b[0;34m\"\"\"A board is a terminal state if it is won or there are no empty squares.\"\"\"\u001b[0m\u001b[0;34m\u001b[0m\u001b[0;34m\u001b[0m\u001b[0m\n\u001b[0;32m---> 24\u001b[0;31m    \u001b[0;32mreturn\u001b[0m \u001b[0mboard\u001b[0m\u001b[0;34m.\u001b[0m \u001b[0mutility\u001b[0m \u001b[0;34m!=\u001b[0m \u001b[0;36m0\u001b[0m \u001b[0;32mor\u001b[0m \u001b[0mlen\u001b[0m\u001b[0;34m(\u001b[0m\u001b[0mself\u001b[0m\u001b[0;34m.\u001b[0m \u001b[0msquares\u001b[0m \u001b[0;34m)\u001b[0m \u001b[0;34m==\u001b[0m \u001b[0mlen\u001b[0m\u001b[0;34m(\u001b[0m\u001b[0mboard\u001b[0m\u001b[0;34m)\u001b[0m\u001b[0;34m\u001b[0m\u001b[0;34m\u001b[0m\u001b[0m\n\u001b[0m\u001b[1;32m     25\u001b[0m   \u001b[0;32mdef\u001b[0m \u001b[0mdisplay\u001b[0m \u001b[0;34m(\u001b[0m\u001b[0mself\u001b[0m \u001b[0;34m,\u001b[0m \u001b[0mboard\u001b[0m \u001b[0;34m)\u001b[0m\u001b[0;34m:\u001b[0m \u001b[0mprint\u001b[0m\u001b[0;34m(\u001b[0m\u001b[0mboard\u001b[0m\u001b[0;34m)\u001b[0m\u001b[0;34m\u001b[0m\u001b[0;34m\u001b[0m\u001b[0m\n\u001b[1;32m     26\u001b[0m   \u001b[0;32mdef\u001b[0m \u001b[0mk_in_row\u001b[0m \u001b[0;34m(\u001b[0m\u001b[0mboard\u001b[0m \u001b[0;34m,\u001b[0m \u001b[0mplayer\u001b[0m \u001b[0;34m,\u001b[0m \u001b[0msquare\u001b[0m \u001b[0;34m,\u001b[0m \u001b[0mk\u001b[0m\u001b[0;34m)\u001b[0m\u001b[0;34m:\u001b[0m\u001b[0;34m\u001b[0m\u001b[0;34m\u001b[0m\u001b[0m\n",
            "\u001b[0;31mAttributeError\u001b[0m: 'Board' object has no attribute 'utility'"
          ]
        }
      ]
    }
  ]
}